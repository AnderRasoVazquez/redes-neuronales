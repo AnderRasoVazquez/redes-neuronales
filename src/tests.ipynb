{
 "cells": [
  {
   "cell_type": "code",
   "execution_count": 9,
   "metadata": {},
   "outputs": [],
   "source": [
    "from keras.models import Sequential\n",
    "from keras.layers.core import Dense\n",
    "from sklearn.model_selection import train_test_split  # para separar \"training data\" y \"test data\" fácil\n",
    "from sklearn.feature_extraction.text import TfidfVectorizer\n",
    "\n",
    "import matplotlib.pyplot as plt  # para gráficos\n",
    "import pandas as pd  # para administrar el dataframe"
   ]
  },
  {
   "cell_type": "code",
   "execution_count": 19,
   "metadata": {},
   "outputs": [
    {
     "name": "stdout",
     "output_type": "stream",
     "text": [
      "9297\n"
     ]
    },
    {
     "data": {
      "text/html": [
       "<div>\n",
       "<style scoped>\n",
       "    .dataframe tbody tr th:only-of-type {\n",
       "        vertical-align: middle;\n",
       "    }\n",
       "\n",
       "    .dataframe tbody tr th {\n",
       "        vertical-align: top;\n",
       "    }\n",
       "\n",
       "    .dataframe thead th {\n",
       "        text-align: right;\n",
       "    }\n",
       "</style>\n",
       "<table border=\"1\" class=\"dataframe\">\n",
       "  <thead>\n",
       "    <tr style=\"text-align: right;\">\n",
       "      <th></th>\n",
       "      <th>newid</th>\n",
       "      <th>module</th>\n",
       "      <th>site</th>\n",
       "      <th>gs_text34</th>\n",
       "      <th>sex</th>\n",
       "      <th>age_years</th>\n",
       "      <th>age_months</th>\n",
       "      <th>age_days</th>\n",
       "      <th>open_response</th>\n",
       "    </tr>\n",
       "  </thead>\n",
       "  <tbody>\n",
       "    <tr>\n",
       "      <th>8454</th>\n",
       "      <td>1331</td>\n",
       "      <td>Neonate</td>\n",
       "      <td>Pemba</td>\n",
       "      <td>Birth asphyxia</td>\n",
       "      <td>1.0</td>\n",
       "      <td>NaN</td>\n",
       "      <td>NaN</td>\n",
       "      <td>0.0</td>\n",
       "      <td>respond explain babi came last breath never cr...</td>\n",
       "    </tr>\n",
       "    <tr>\n",
       "      <th>6401</th>\n",
       "      <td>453</td>\n",
       "      <td>Child</td>\n",
       "      <td>AP</td>\n",
       "      <td>Pneumonia</td>\n",
       "      <td>2.0</td>\n",
       "      <td>NaN</td>\n",
       "      <td>9.0</td>\n",
       "      <td>NaN</td>\n",
       "      <td>month patient born pneumonia start sick one lu...</td>\n",
       "    </tr>\n",
       "    <tr>\n",
       "      <th>1125</th>\n",
       "      <td>1470</td>\n",
       "      <td>Adult</td>\n",
       "      <td>Bohol</td>\n",
       "      <td>Breast Cancer</td>\n",
       "      <td>2.0</td>\n",
       "      <td>70.0</td>\n",
       "      <td>NaN</td>\n",
       "      <td>NaN</td>\n",
       "      <td>cancer breast undergo oper hospit wherein righ...</td>\n",
       "    </tr>\n",
       "    <tr>\n",
       "      <th>5079</th>\n",
       "      <td>6572</td>\n",
       "      <td>Adult</td>\n",
       "      <td>AP</td>\n",
       "      <td>Other Cardiovascular Diseases</td>\n",
       "      <td>2.0</td>\n",
       "      <td>27.0</td>\n",
       "      <td>NaN</td>\n",
       "      <td>NaN</td>\n",
       "      <td>patient get pain chest took check doctor presc...</td>\n",
       "    </tr>\n",
       "    <tr>\n",
       "      <th>7543</th>\n",
       "      <td>1992</td>\n",
       "      <td>Child</td>\n",
       "      <td>Dar</td>\n",
       "      <td>Pneumonia</td>\n",
       "      <td>1.0</td>\n",
       "      <td>3.0</td>\n",
       "      <td>NaN</td>\n",
       "      <td>NaN</td>\n",
       "      <td>particip claim harsh behavior display medic of...</td>\n",
       "    </tr>\n",
       "  </tbody>\n",
       "</table>\n",
       "</div>"
      ],
      "text/plain": [
       "      newid   module   site                      gs_text34  sex  age_years  \\\n",
       "8454   1331  Neonate  Pemba                 Birth asphyxia  1.0        NaN   \n",
       "6401    453    Child     AP                      Pneumonia  2.0        NaN   \n",
       "1125   1470    Adult  Bohol                  Breast Cancer  2.0       70.0   \n",
       "5079   6572    Adult     AP  Other Cardiovascular Diseases  2.0       27.0   \n",
       "7543   1992    Child    Dar                      Pneumonia  1.0        3.0   \n",
       "\n",
       "      age_months  age_days                                      open_response  \n",
       "8454         NaN       0.0  respond explain babi came last breath never cr...  \n",
       "6401         9.0       NaN  month patient born pneumonia start sick one lu...  \n",
       "1125         NaN       NaN  cancer breast undergo oper hospit wherein righ...  \n",
       "5079         NaN       NaN  patient get pain chest took check doctor presc...  \n",
       "7543         NaN       NaN  particip claim harsh behavior display medic of...  "
      ]
     },
     "execution_count": 19,
     "metadata": {},
     "output_type": "execute_result"
    }
   ],
   "source": [
    "df = pd.read_csv(\"files/verbal_autopsies_clean.csv\")\n",
    "df = df.sample(frac=1)  # orden aleatorio\n",
    "df = df.dropna(subset=[\"open_response\", \"gs_text34\"])  # eliminar los valores nulos de open_response y gs_text34\n",
    "print(len(df))\n",
    "df.head(5)"
   ]
  },
  {
   "cell_type": "code",
   "execution_count": 20,
   "metadata": {},
   "outputs": [
    {
     "data": {
      "text/plain": [
       "0"
      ]
     },
     "execution_count": 20,
     "metadata": {},
     "output_type": "execute_result"
    }
   ],
   "source": [
    "len(df[\"open_response\"]) - df[\"open_response\"].count()"
   ]
  },
  {
   "cell_type": "code",
   "execution_count": 28,
   "metadata": {},
   "outputs": [],
   "source": [
    "vectorizer = TfidfVectorizer()\n",
    "X = vectorizer.fit_transform(df[\"open_response\"])"
   ]
  },
  {
   "cell_type": "code",
   "execution_count": 29,
   "metadata": {},
   "outputs": [
    {
     "name": "stdout",
     "output_type": "stream",
     "text": [
      "(9297, 9002)\n"
     ]
    }
   ],
   "source": [
    "print(X.shape) # tenemos 9297 filas y un vocabulario de 9002\n",
    "# habrá que hacer 9002 entradas en la matriz"
   ]
  },
  {
   "cell_type": "code",
   "execution_count": 35,
   "metadata": {},
   "outputs": [
    {
     "data": {
      "text/plain": [
       "8454                   Birth asphyxia\n",
       "6401                        Pneumonia\n",
       "1125                    Breast Cancer\n",
       "5079    Other Cardiovascular Diseases\n",
       "7543                        Pneumonia\n",
       "Name: gs_text34, dtype: object"
      ]
     },
     "execution_count": 35,
     "metadata": {},
     "output_type": "execute_result"
    }
   ],
   "source": [
    "y = df[\"gs_text34\"]\n",
    "y.head(5)"
   ]
  },
  {
   "cell_type": "code",
   "execution_count": 38,
   "metadata": {},
   "outputs": [
    {
     "name": "stdout",
     "output_type": "stream",
     "text": [
      "Hay 48 clases y sus valores son:\n",
      " ['Birth asphyxia' 'Pneumonia' 'Breast Cancer'\n",
      " 'Other Cardiovascular Diseases' 'Stillbirth' 'Renal Failure'\n",
      " 'Other Defined Causes of Child Deaths' 'Sepsis' 'Fires'\n",
      " 'Bite of Venomous Animal' 'Other Non-communicable Diseases' 'COPD'\n",
      " 'Stroke' 'Leukemia/Lymphomas' 'Acute Myocardial Infarction'\n",
      " 'Road Traffic' 'Other Infectious Diseases' 'Stomach Cancer'\n",
      " 'Meningitis/Sepsis' 'Preterm Delivery' 'Diabetes' 'Epilepsy' 'AIDS' 'TB'\n",
      " 'Colorectal Cancer' 'Maternal' 'Other Digestive Diseases'\n",
      " 'Diarrhea/Dysentery' 'Drowning' 'Hemorrhagic fever' 'Cirrhosis'\n",
      " 'Violent Death' 'Suicide' 'Malaria' 'Other Injuries' 'Other Cancers'\n",
      " 'Falls' 'Cervical Cancer' 'Poisonings' 'Congenital malformation'\n",
      " 'Meningitis' 'Homicide' 'Asthma' 'Esophageal Cancer' 'Lung Cancer'\n",
      " 'Prostate Cancer' 'Measles' 'Encephalitis']\n"
     ]
    }
   ],
   "source": [
    "class_values = y.unique()\n",
    "print(f\"Hay {len(class_values)} clases y sus valores son:\\n {class_values}\")"
   ]
  },
  {
   "cell_type": "code",
   "execution_count": 39,
   "metadata": {},
   "outputs": [
    {
     "name": "stderr",
     "output_type": "stream",
     "text": [
      "/home/ander/.local/lib/python3.6/site-packages/sklearn/model_selection/_split.py:2069: FutureWarning: From version 0.21, test_size will always complement train_size unless both are specified.\n",
      "  FutureWarning)\n"
     ]
    }
   ],
   "source": [
    "train_X, test_X, train_y, test_y = train_test_split(X, y, train_size=0.5, random_state=0)"
   ]
  },
  {
   "cell_type": "code",
   "execution_count": 40,
   "metadata": {},
   "outputs": [
    {
     "name": "stdout",
     "output_type": "stream",
     "text": [
      "(4648, 9002)\n",
      "(4648,)\n",
      "(4649, 9002)\n",
      "(4649,)\n"
     ]
    }
   ],
   "source": [
    "print(train_X.shape)\n",
    "print(train_y.shape)\n",
    "print(test_X.shape)\n",
    "print(test_y.shape)"
   ]
  },
  {
   "cell_type": "code",
   "execution_count": 41,
   "metadata": {},
   "outputs": [
    {
     "data": {
      "text/html": [
       "<div>\n",
       "<style scoped>\n",
       "    .dataframe tbody tr th:only-of-type {\n",
       "        vertical-align: middle;\n",
       "    }\n",
       "\n",
       "    .dataframe tbody tr th {\n",
       "        vertical-align: top;\n",
       "    }\n",
       "\n",
       "    .dataframe thead th {\n",
       "        text-align: right;\n",
       "    }\n",
       "</style>\n",
       "<table border=\"1\" class=\"dataframe\">\n",
       "  <thead>\n",
       "    <tr style=\"text-align: right;\">\n",
       "      <th></th>\n",
       "      <th>AIDS</th>\n",
       "      <th>Acute Myocardial Infarction</th>\n",
       "      <th>Asthma</th>\n",
       "      <th>Birth asphyxia</th>\n",
       "      <th>Bite of Venomous Animal</th>\n",
       "      <th>Breast Cancer</th>\n",
       "      <th>COPD</th>\n",
       "      <th>Cervical Cancer</th>\n",
       "      <th>Cirrhosis</th>\n",
       "      <th>Colorectal Cancer</th>\n",
       "      <th>...</th>\n",
       "      <th>Prostate Cancer</th>\n",
       "      <th>Renal Failure</th>\n",
       "      <th>Road Traffic</th>\n",
       "      <th>Sepsis</th>\n",
       "      <th>Stillbirth</th>\n",
       "      <th>Stomach Cancer</th>\n",
       "      <th>Stroke</th>\n",
       "      <th>Suicide</th>\n",
       "      <th>TB</th>\n",
       "      <th>Violent Death</th>\n",
       "    </tr>\n",
       "  </thead>\n",
       "  <tbody>\n",
       "    <tr>\n",
       "      <th>7136</th>\n",
       "      <td>0</td>\n",
       "      <td>0</td>\n",
       "      <td>0</td>\n",
       "      <td>0</td>\n",
       "      <td>0</td>\n",
       "      <td>0</td>\n",
       "      <td>0</td>\n",
       "      <td>0</td>\n",
       "      <td>0</td>\n",
       "      <td>0</td>\n",
       "      <td>...</td>\n",
       "      <td>0</td>\n",
       "      <td>0</td>\n",
       "      <td>0</td>\n",
       "      <td>0</td>\n",
       "      <td>0</td>\n",
       "      <td>0</td>\n",
       "      <td>0</td>\n",
       "      <td>0</td>\n",
       "      <td>0</td>\n",
       "      <td>0</td>\n",
       "    </tr>\n",
       "    <tr>\n",
       "      <th>7763</th>\n",
       "      <td>0</td>\n",
       "      <td>0</td>\n",
       "      <td>0</td>\n",
       "      <td>0</td>\n",
       "      <td>0</td>\n",
       "      <td>0</td>\n",
       "      <td>0</td>\n",
       "      <td>0</td>\n",
       "      <td>0</td>\n",
       "      <td>0</td>\n",
       "      <td>...</td>\n",
       "      <td>0</td>\n",
       "      <td>0</td>\n",
       "      <td>0</td>\n",
       "      <td>0</td>\n",
       "      <td>1</td>\n",
       "      <td>0</td>\n",
       "      <td>0</td>\n",
       "      <td>0</td>\n",
       "      <td>0</td>\n",
       "      <td>0</td>\n",
       "    </tr>\n",
       "    <tr>\n",
       "      <th>6782</th>\n",
       "      <td>0</td>\n",
       "      <td>0</td>\n",
       "      <td>0</td>\n",
       "      <td>0</td>\n",
       "      <td>0</td>\n",
       "      <td>0</td>\n",
       "      <td>0</td>\n",
       "      <td>0</td>\n",
       "      <td>0</td>\n",
       "      <td>0</td>\n",
       "      <td>...</td>\n",
       "      <td>0</td>\n",
       "      <td>0</td>\n",
       "      <td>0</td>\n",
       "      <td>0</td>\n",
       "      <td>0</td>\n",
       "      <td>0</td>\n",
       "      <td>0</td>\n",
       "      <td>0</td>\n",
       "      <td>0</td>\n",
       "      <td>0</td>\n",
       "    </tr>\n",
       "    <tr>\n",
       "      <th>2843</th>\n",
       "      <td>0</td>\n",
       "      <td>0</td>\n",
       "      <td>0</td>\n",
       "      <td>0</td>\n",
       "      <td>0</td>\n",
       "      <td>0</td>\n",
       "      <td>0</td>\n",
       "      <td>0</td>\n",
       "      <td>0</td>\n",
       "      <td>0</td>\n",
       "      <td>...</td>\n",
       "      <td>0</td>\n",
       "      <td>0</td>\n",
       "      <td>0</td>\n",
       "      <td>0</td>\n",
       "      <td>0</td>\n",
       "      <td>0</td>\n",
       "      <td>0</td>\n",
       "      <td>0</td>\n",
       "      <td>0</td>\n",
       "      <td>0</td>\n",
       "    </tr>\n",
       "    <tr>\n",
       "      <th>2505</th>\n",
       "      <td>0</td>\n",
       "      <td>0</td>\n",
       "      <td>0</td>\n",
       "      <td>0</td>\n",
       "      <td>0</td>\n",
       "      <td>0</td>\n",
       "      <td>0</td>\n",
       "      <td>0</td>\n",
       "      <td>0</td>\n",
       "      <td>0</td>\n",
       "      <td>...</td>\n",
       "      <td>0</td>\n",
       "      <td>0</td>\n",
       "      <td>0</td>\n",
       "      <td>0</td>\n",
       "      <td>0</td>\n",
       "      <td>0</td>\n",
       "      <td>1</td>\n",
       "      <td>0</td>\n",
       "      <td>0</td>\n",
       "      <td>0</td>\n",
       "    </tr>\n",
       "  </tbody>\n",
       "</table>\n",
       "<p>5 rows × 48 columns</p>\n",
       "</div>"
      ],
      "text/plain": [
       "      AIDS  Acute Myocardial Infarction  Asthma  Birth asphyxia  \\\n",
       "7136     0                            0       0               0   \n",
       "7763     0                            0       0               0   \n",
       "6782     0                            0       0               0   \n",
       "2843     0                            0       0               0   \n",
       "2505     0                            0       0               0   \n",
       "\n",
       "      Bite of Venomous Animal  Breast Cancer  COPD  Cervical Cancer  \\\n",
       "7136                        0              0     0                0   \n",
       "7763                        0              0     0                0   \n",
       "6782                        0              0     0                0   \n",
       "2843                        0              0     0                0   \n",
       "2505                        0              0     0                0   \n",
       "\n",
       "      Cirrhosis  Colorectal Cancer      ...        Prostate Cancer  \\\n",
       "7136          0                  0      ...                      0   \n",
       "7763          0                  0      ...                      0   \n",
       "6782          0                  0      ...                      0   \n",
       "2843          0                  0      ...                      0   \n",
       "2505          0                  0      ...                      0   \n",
       "\n",
       "      Renal Failure  Road Traffic  Sepsis  Stillbirth  Stomach Cancer  Stroke  \\\n",
       "7136              0             0       0           0               0       0   \n",
       "7763              0             0       0           1               0       0   \n",
       "6782              0             0       0           0               0       0   \n",
       "2843              0             0       0           0               0       0   \n",
       "2505              0             0       0           0               0       1   \n",
       "\n",
       "      Suicide  TB  Violent Death  \n",
       "7136        0   0              0  \n",
       "7763        0   0              0  \n",
       "6782        0   0              0  \n",
       "2843        0   0              0  \n",
       "2505        0   0              0  \n",
       "\n",
       "[5 rows x 48 columns]"
      ]
     },
     "execution_count": 41,
     "metadata": {},
     "output_type": "execute_result"
    }
   ],
   "source": [
    "train_y = pd.get_dummies(train_y)\n",
    "train_y.head(5)  # ahora si que nos vale como salida de la red"
   ]
  },
  {
   "cell_type": "code",
   "execution_count": 42,
   "metadata": {},
   "outputs": [
    {
     "data": {
      "text/html": [
       "<div>\n",
       "<style scoped>\n",
       "    .dataframe tbody tr th:only-of-type {\n",
       "        vertical-align: middle;\n",
       "    }\n",
       "\n",
       "    .dataframe tbody tr th {\n",
       "        vertical-align: top;\n",
       "    }\n",
       "\n",
       "    .dataframe thead th {\n",
       "        text-align: right;\n",
       "    }\n",
       "</style>\n",
       "<table border=\"1\" class=\"dataframe\">\n",
       "  <thead>\n",
       "    <tr style=\"text-align: right;\">\n",
       "      <th></th>\n",
       "      <th>AIDS</th>\n",
       "      <th>Acute Myocardial Infarction</th>\n",
       "      <th>Asthma</th>\n",
       "      <th>Birth asphyxia</th>\n",
       "      <th>Bite of Venomous Animal</th>\n",
       "      <th>Breast Cancer</th>\n",
       "      <th>COPD</th>\n",
       "      <th>Cervical Cancer</th>\n",
       "      <th>Cirrhosis</th>\n",
       "      <th>Colorectal Cancer</th>\n",
       "      <th>...</th>\n",
       "      <th>Prostate Cancer</th>\n",
       "      <th>Renal Failure</th>\n",
       "      <th>Road Traffic</th>\n",
       "      <th>Sepsis</th>\n",
       "      <th>Stillbirth</th>\n",
       "      <th>Stomach Cancer</th>\n",
       "      <th>Stroke</th>\n",
       "      <th>Suicide</th>\n",
       "      <th>TB</th>\n",
       "      <th>Violent Death</th>\n",
       "    </tr>\n",
       "  </thead>\n",
       "  <tbody>\n",
       "    <tr>\n",
       "      <th>1329</th>\n",
       "      <td>0</td>\n",
       "      <td>0</td>\n",
       "      <td>0</td>\n",
       "      <td>0</td>\n",
       "      <td>0</td>\n",
       "      <td>0</td>\n",
       "      <td>0</td>\n",
       "      <td>0</td>\n",
       "      <td>0</td>\n",
       "      <td>0</td>\n",
       "      <td>...</td>\n",
       "      <td>0</td>\n",
       "      <td>0</td>\n",
       "      <td>0</td>\n",
       "      <td>0</td>\n",
       "      <td>0</td>\n",
       "      <td>0</td>\n",
       "      <td>0</td>\n",
       "      <td>0</td>\n",
       "      <td>0</td>\n",
       "      <td>0</td>\n",
       "    </tr>\n",
       "    <tr>\n",
       "      <th>5699</th>\n",
       "      <td>0</td>\n",
       "      <td>0</td>\n",
       "      <td>0</td>\n",
       "      <td>0</td>\n",
       "      <td>0</td>\n",
       "      <td>0</td>\n",
       "      <td>0</td>\n",
       "      <td>0</td>\n",
       "      <td>0</td>\n",
       "      <td>0</td>\n",
       "      <td>...</td>\n",
       "      <td>0</td>\n",
       "      <td>0</td>\n",
       "      <td>0</td>\n",
       "      <td>0</td>\n",
       "      <td>0</td>\n",
       "      <td>0</td>\n",
       "      <td>0</td>\n",
       "      <td>0</td>\n",
       "      <td>0</td>\n",
       "      <td>0</td>\n",
       "    </tr>\n",
       "    <tr>\n",
       "      <th>3777</th>\n",
       "      <td>0</td>\n",
       "      <td>0</td>\n",
       "      <td>0</td>\n",
       "      <td>0</td>\n",
       "      <td>0</td>\n",
       "      <td>0</td>\n",
       "      <td>0</td>\n",
       "      <td>0</td>\n",
       "      <td>0</td>\n",
       "      <td>0</td>\n",
       "      <td>...</td>\n",
       "      <td>0</td>\n",
       "      <td>0</td>\n",
       "      <td>0</td>\n",
       "      <td>0</td>\n",
       "      <td>0</td>\n",
       "      <td>0</td>\n",
       "      <td>0</td>\n",
       "      <td>0</td>\n",
       "      <td>0</td>\n",
       "      <td>0</td>\n",
       "    </tr>\n",
       "    <tr>\n",
       "      <th>3340</th>\n",
       "      <td>0</td>\n",
       "      <td>0</td>\n",
       "      <td>0</td>\n",
       "      <td>0</td>\n",
       "      <td>0</td>\n",
       "      <td>0</td>\n",
       "      <td>0</td>\n",
       "      <td>0</td>\n",
       "      <td>0</td>\n",
       "      <td>0</td>\n",
       "      <td>...</td>\n",
       "      <td>0</td>\n",
       "      <td>1</td>\n",
       "      <td>0</td>\n",
       "      <td>0</td>\n",
       "      <td>0</td>\n",
       "      <td>0</td>\n",
       "      <td>0</td>\n",
       "      <td>0</td>\n",
       "      <td>0</td>\n",
       "      <td>0</td>\n",
       "    </tr>\n",
       "    <tr>\n",
       "      <th>8114</th>\n",
       "      <td>0</td>\n",
       "      <td>0</td>\n",
       "      <td>0</td>\n",
       "      <td>0</td>\n",
       "      <td>0</td>\n",
       "      <td>0</td>\n",
       "      <td>0</td>\n",
       "      <td>0</td>\n",
       "      <td>0</td>\n",
       "      <td>0</td>\n",
       "      <td>...</td>\n",
       "      <td>0</td>\n",
       "      <td>0</td>\n",
       "      <td>0</td>\n",
       "      <td>0</td>\n",
       "      <td>0</td>\n",
       "      <td>0</td>\n",
       "      <td>0</td>\n",
       "      <td>0</td>\n",
       "      <td>0</td>\n",
       "      <td>0</td>\n",
       "    </tr>\n",
       "  </tbody>\n",
       "</table>\n",
       "<p>5 rows × 48 columns</p>\n",
       "</div>"
      ],
      "text/plain": [
       "      AIDS  Acute Myocardial Infarction  Asthma  Birth asphyxia  \\\n",
       "1329     0                            0       0               0   \n",
       "5699     0                            0       0               0   \n",
       "3777     0                            0       0               0   \n",
       "3340     0                            0       0               0   \n",
       "8114     0                            0       0               0   \n",
       "\n",
       "      Bite of Venomous Animal  Breast Cancer  COPD  Cervical Cancer  \\\n",
       "1329                        0              0     0                0   \n",
       "5699                        0              0     0                0   \n",
       "3777                        0              0     0                0   \n",
       "3340                        0              0     0                0   \n",
       "8114                        0              0     0                0   \n",
       "\n",
       "      Cirrhosis  Colorectal Cancer      ...        Prostate Cancer  \\\n",
       "1329          0                  0      ...                      0   \n",
       "5699          0                  0      ...                      0   \n",
       "3777          0                  0      ...                      0   \n",
       "3340          0                  0      ...                      0   \n",
       "8114          0                  0      ...                      0   \n",
       "\n",
       "      Renal Failure  Road Traffic  Sepsis  Stillbirth  Stomach Cancer  Stroke  \\\n",
       "1329              0             0       0           0               0       0   \n",
       "5699              0             0       0           0               0       0   \n",
       "3777              0             0       0           0               0       0   \n",
       "3340              1             0       0           0               0       0   \n",
       "8114              0             0       0           0               0       0   \n",
       "\n",
       "      Suicide  TB  Violent Death  \n",
       "1329        0   0              0  \n",
       "5699        0   0              0  \n",
       "3777        0   0              0  \n",
       "3340        0   0              0  \n",
       "8114        0   0              0  \n",
       "\n",
       "[5 rows x 48 columns]"
      ]
     },
     "execution_count": 42,
     "metadata": {},
     "output_type": "execute_result"
    }
   ],
   "source": [
    "test_y = pd.get_dummies(test_y)  # hacemos lo mismo para los resultados del test\n",
    "test_y.head(5)"
   ]
  },
  {
   "cell_type": "code",
   "execution_count": 55,
   "metadata": {},
   "outputs": [],
   "source": [
    "num_output = len(test_y.columns)\n",
    "num_logits = test_X.shape[1]"
   ]
  },
  {
   "cell_type": "code",
   "execution_count": 80,
   "metadata": {},
   "outputs": [],
   "source": [
    "model = Sequential()\n",
    "model.add(Dense(512, input_shape=(num_logits,), activation=\"sigmoid\"))\n",
    "model.add(Dense(512, activation=\"sigmoid\"))\n",
    "model.add(Dense(num_output, activation=\"softmax\"))\n",
    "model.compile(loss='categorical_crossentropy', optimizer='adam',  metrics=['accuracy'])"
   ]
  },
  {
   "cell_type": "code",
   "execution_count": 57,
   "metadata": {},
   "outputs": [
    {
     "name": "stdout",
     "output_type": "stream",
     "text": [
      "_________________________________________________________________\n",
      "Layer (type)                 Output Shape              Param #   \n",
      "=================================================================\n",
      "dense_1 (Dense)              (None, 16)                144048    \n",
      "_________________________________________________________________\n",
      "dense_2 (Dense)              (None, 48)                816       \n",
      "=================================================================\n",
      "Total params: 144,864\n",
      "Trainable params: 144,864\n",
      "Non-trainable params: 0\n",
      "_________________________________________________________________\n"
     ]
    }
   ],
   "source": [
    "model.summary()"
   ]
  },
  {
   "cell_type": "code",
   "execution_count": 81,
   "metadata": {},
   "outputs": [
    {
     "name": "stdout",
     "output_type": "stream",
     "text": [
      "Train on 4648 samples, validate on 4649 samples\n",
      "Epoch 1/20\n",
      "4648/4648 [==============================] - 14s 3ms/step - loss: 3.5988 - acc: 0.0828 - val_loss: 3.5440 - val_acc: 0.0989\n",
      "Epoch 2/20\n",
      "4648/4648 [==============================] - 13s 3ms/step - loss: 3.5247 - acc: 0.0994 - val_loss: 3.4916 - val_acc: 0.0815\n",
      "Epoch 3/20\n",
      "4648/4648 [==============================] - 13s 3ms/step - loss: 3.4808 - acc: 0.1125 - val_loss: 3.4388 - val_acc: 0.1590\n",
      "Epoch 4/20\n",
      "4648/4648 [==============================] - 13s 3ms/step - loss: 3.3241 - acc: 0.1560 - val_loss: 3.2320 - val_acc: 0.1729\n",
      "Epoch 5/20\n",
      "4648/4648 [==============================] - 13s 3ms/step - loss: 3.0758 - acc: 0.1902 - val_loss: 3.0236 - val_acc: 0.2026\n",
      "Epoch 6/20\n",
      "4648/4648 [==============================] - 13s 3ms/step - loss: 2.8204 - acc: 0.2575 - val_loss: 2.8653 - val_acc: 0.2216\n",
      "Epoch 7/20\n",
      "4648/4648 [==============================] - 14s 3ms/step - loss: 2.5076 - acc: 0.3318 - val_loss: 2.7644 - val_acc: 0.2656\n",
      "Epoch 8/20\n",
      "4648/4648 [==============================] - 13s 3ms/step - loss: 2.2162 - acc: 0.4124 - val_loss: 2.5936 - val_acc: 0.2988\n",
      "Epoch 9/20\n",
      "4648/4648 [==============================] - 13s 3ms/step - loss: 1.9300 - acc: 0.4869 - val_loss: 2.6060 - val_acc: 0.3323\n",
      "Epoch 10/20\n",
      "4648/4648 [==============================] - 13s 3ms/step - loss: 1.6947 - acc: 0.5480 - val_loss: 2.4841 - val_acc: 0.3384\n",
      "Epoch 11/20\n",
      "4648/4648 [==============================] - 13s 3ms/step - loss: 1.4918 - acc: 0.6056 - val_loss: 2.5003 - val_acc: 0.3420\n",
      "Epoch 12/20\n",
      "4648/4648 [==============================] - 13s 3ms/step - loss: 1.2964 - acc: 0.6568 - val_loss: 2.5540 - val_acc: 0.3480\n",
      "Epoch 13/20\n",
      "4648/4648 [==============================] - 13s 3ms/step - loss: 1.1627 - acc: 0.6994 - val_loss: 2.5511 - val_acc: 0.3549\n",
      "Epoch 14/20\n",
      "4648/4648 [==============================] - 13s 3ms/step - loss: 1.0243 - acc: 0.7347 - val_loss: 2.6337 - val_acc: 0.3513\n",
      "Epoch 15/20\n",
      "4648/4648 [==============================] - 13s 3ms/step - loss: 0.9222 - acc: 0.7614 - val_loss: 2.6349 - val_acc: 0.3581\n",
      "Epoch 16/20\n",
      "4648/4648 [==============================] - 13s 3ms/step - loss: 0.8283 - acc: 0.7874 - val_loss: 2.7802 - val_acc: 0.3448\n",
      "Epoch 17/20\n",
      "4648/4648 [==============================] - 14s 3ms/step - loss: 0.7534 - acc: 0.8057 - val_loss: 2.7859 - val_acc: 0.3506\n",
      "Epoch 18/20\n",
      "4648/4648 [==============================] - 13s 3ms/step - loss: 0.6941 - acc: 0.8249 - val_loss: 2.7906 - val_acc: 0.3495\n",
      "Epoch 19/20\n",
      "4648/4648 [==============================] - 13s 3ms/step - loss: 0.6370 - acc: 0.8326 - val_loss: 2.9144 - val_acc: 0.3414\n",
      "Epoch 20/20\n",
      "4648/4648 [==============================] - 13s 3ms/step - loss: 0.5816 - acc: 0.8511 - val_loss: 2.9549 - val_acc: 0.3394\n"
     ]
    }
   ],
   "source": [
    "history = model.fit(train_X, train_y, epochs=20, validation_data=(test_X, test_y))"
   ]
  },
  {
   "cell_type": "code",
   "execution_count": 82,
   "metadata": {},
   "outputs": [
    {
     "data": {
      "text/plain": [
       "[<matplotlib.lines.Line2D at 0x7ff0d934b080>]"
      ]
     },
     "execution_count": 82,
     "metadata": {},
     "output_type": "execute_result"
    },
    {
     "data": {
      "image/png": "[encoded data removed]",
      "text/plain": [
       "<Figure size 432x288 with 1 Axes>"
      ]
     },
     "metadata": {
      "needs_background": "light"
     },
     "output_type": "display_data"
    }
   ],
   "source": [
    "plt.plot(history.history['acc'])"
   ]
  },
  {
   "cell_type": "code",
   "execution_count": 83,
   "metadata": {},
   "outputs": [
    {
     "data": {
      "text/plain": [
       "[<matplotlib.lines.Line2D at 0x7ff0d9301ba8>]"
      ]
     },
     "execution_count": 83,
     "metadata": {},
     "output_type": "execute_result"
    },
    {
     "data": {
      "image/png": "[encoded data removed]",
      "text/plain": [
       "<Figure size 432x288 with 1 Axes>"
      ]
     },
     "metadata": {
      "needs_background": "light"
     },
     "output_type": "display_data"
    }
   ],
   "source": [
    "plt.plot(history.history['acc'])\n",
    "plt.plot(history.history['val_acc'])"
   ]
  },
  {
   "cell_type": "code",
   "execution_count": 84,
   "metadata": {},
   "outputs": [
    {
     "data": {
      "text/plain": [
       "[<matplotlib.lines.Line2D at 0x7ff0d9293080>]"
      ]
     },
     "execution_count": 84,
     "metadata": {},
     "output_type": "execute_result"
    },
    {
     "data": {
      "image/png": "[encoded data removed]",
      "text/plain": [
       "<Figure size 432x288 with 1 Axes>"
      ]
     },
     "metadata": {
      "needs_background": "light"
     },
     "output_type": "display_data"
    }
   ],
   "source": [
    "plt.plot(history.history['acc'])\n",
    "plt.plot(history.history['val_acc'])\n",
    "plt.plot(history.history['loss'])"
   ]
  },
  {
   "cell_type": "code",
   "execution_count": 85,
   "metadata": {},
   "outputs": [
    {
     "name": "stdout",
     "output_type": "stream",
     "text": [
      "4649/4649 [==============================] - 1s 199us/step\n",
      "[2.9548893590259615, 0.3394278339620148]\n"
     ]
    }
   ],
   "source": [
    "score = model.evaluate(test_X, test_y)\n",
    "print(score)"
   ]
  },
  {
   "cell_type": "code",
   "execution_count": null,
   "metadata": {},
   "outputs": [],
   "source": []
  }
 ],
 "metadata": {
  "kernelspec": {
   "display_name": "Python 3",
   "language": "python",
   "name": "python3"
  },
  "language_info": {
   "codemirror_mode": {
    "name": "ipython",
    "version": 3
   },
   "file_extension": ".py",
   "mimetype": "text/x-python",
   "name": "python",
   "nbconvert_exporter": "python",
   "pygments_lexer": "ipython3",
   "version": "3.6.7"
  }
 },
 "nbformat": 4,
 "nbformat_minor": 2
}
