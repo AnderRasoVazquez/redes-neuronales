{
 "cells": [
  {
   "cell_type": "code",
   "execution_count": 1,
   "metadata": {},
   "outputs": [
    {
     "name": "stderr",
     "output_type": "stream",
     "text": [
      "Using TensorFlow backend.\n"
     ]
    },
    {
     "data": {
      "text/html": [
       "<div>\n",
       "<style scoped>\n",
       "    .dataframe tbody tr th:only-of-type {\n",
       "        vertical-align: middle;\n",
       "    }\n",
       "\n",
       "    .dataframe tbody tr th {\n",
       "        vertical-align: top;\n",
       "    }\n",
       "\n",
       "    .dataframe thead th {\n",
       "        text-align: right;\n",
       "    }\n",
       "</style>\n",
       "<table border=\"1\" class=\"dataframe\">\n",
       "  <thead>\n",
       "    <tr style=\"text-align: right;\">\n",
       "      <th></th>\n",
       "      <th>sepal_length_cm</th>\n",
       "      <th>sepal_width_cm</th>\n",
       "      <th>petal_length_cm</th>\n",
       "      <th>petal_width_cm</th>\n",
       "      <th>class</th>\n",
       "    </tr>\n",
       "  </thead>\n",
       "  <tbody>\n",
       "    <tr>\n",
       "      <th>59</th>\n",
       "      <td>5.2</td>\n",
       "      <td>2.7</td>\n",
       "      <td>3.9</td>\n",
       "      <td>1.4</td>\n",
       "      <td>Iris-versicolor</td>\n",
       "    </tr>\n",
       "    <tr>\n",
       "      <th>50</th>\n",
       "      <td>7.0</td>\n",
       "      <td>3.2</td>\n",
       "      <td>4.7</td>\n",
       "      <td>1.4</td>\n",
       "      <td>Iris-versicolor</td>\n",
       "    </tr>\n",
       "    <tr>\n",
       "      <th>144</th>\n",
       "      <td>6.7</td>\n",
       "      <td>3.3</td>\n",
       "      <td>5.7</td>\n",
       "      <td>2.5</td>\n",
       "      <td>Iris-virginica</td>\n",
       "    </tr>\n",
       "    <tr>\n",
       "      <th>2</th>\n",
       "      <td>4.7</td>\n",
       "      <td>3.2</td>\n",
       "      <td>1.3</td>\n",
       "      <td>0.2</td>\n",
       "      <td>Iris-setosa</td>\n",
       "    </tr>\n",
       "    <tr>\n",
       "      <th>54</th>\n",
       "      <td>6.5</td>\n",
       "      <td>2.8</td>\n",
       "      <td>4.6</td>\n",
       "      <td>1.5</td>\n",
       "      <td>Iris-versicolor</td>\n",
       "    </tr>\n",
       "  </tbody>\n",
       "</table>\n",
       "</div>"
      ],
      "text/plain": [
       "     sepal_length_cm  sepal_width_cm  petal_length_cm  petal_width_cm  \\\n",
       "59               5.2             2.7              3.9             1.4   \n",
       "50               7.0             3.2              4.7             1.4   \n",
       "144              6.7             3.3              5.7             2.5   \n",
       "2                4.7             3.2              1.3             0.2   \n",
       "54               6.5             2.8              4.6             1.5   \n",
       "\n",
       "               class  \n",
       "59   Iris-versicolor  \n",
       "50   Iris-versicolor  \n",
       "144   Iris-virginica  \n",
       "2        Iris-setosa  \n",
       "54   Iris-versicolor  "
      ]
     },
     "execution_count": 1,
     "metadata": {},
     "output_type": "execute_result"
    }
   ],
   "source": [
    "from keras.models import Sequential\n",
    "from keras.layers.core import Dense, Activation\n",
    "from sklearn.model_selection import train_test_split  # para separar \"training data\" y \"test data\" fácil\n",
    "\n",
    "import matplotlib.pyplot as plt  # para gráficos\n",
    "import pandas as pd  # para administrar el dataframe\n",
    "\n",
    "# el archivo viene sin nombre en las columnas\n",
    "column_names = [\n",
    "    \"sepal_length_cm\",\n",
    "    \"sepal_width_cm\",\n",
    "    \"petal_length_cm\",\n",
    "    \"petal_width_cm\",\n",
    "    \"class\"\n",
    "]\n",
    "\n",
    "df = pd.read_csv(\"iris_data.csv\", header=None, names=column_names) # header=None la primera linea no es los nombres\n",
    "df = df.sample(frac=1) # por defecto el dataset está ordenado por clase, esto lo vuelve random\n",
    "# nos interesa pasarle a la red clases diferentes en lugar de muchas de la misma clase seguidas\n",
    "\n",
    "df.head(5)"
   ]
  },
  {
   "cell_type": "code",
   "execution_count": 2,
   "metadata": {},
   "outputs": [
    {
     "data": {
      "text/html": [
       "<div>\n",
       "<style scoped>\n",
       "    .dataframe tbody tr th:only-of-type {\n",
       "        vertical-align: middle;\n",
       "    }\n",
       "\n",
       "    .dataframe tbody tr th {\n",
       "        vertical-align: top;\n",
       "    }\n",
       "\n",
       "    .dataframe thead th {\n",
       "        text-align: right;\n",
       "    }\n",
       "</style>\n",
       "<table border=\"1\" class=\"dataframe\">\n",
       "  <thead>\n",
       "    <tr style=\"text-align: right;\">\n",
       "      <th></th>\n",
       "      <th>sepal_length_cm</th>\n",
       "      <th>sepal_width_cm</th>\n",
       "      <th>petal_length_cm</th>\n",
       "      <th>petal_width_cm</th>\n",
       "    </tr>\n",
       "  </thead>\n",
       "  <tbody>\n",
       "    <tr>\n",
       "      <th>59</th>\n",
       "      <td>5.2</td>\n",
       "      <td>2.7</td>\n",
       "      <td>3.9</td>\n",
       "      <td>1.4</td>\n",
       "    </tr>\n",
       "    <tr>\n",
       "      <th>50</th>\n",
       "      <td>7.0</td>\n",
       "      <td>3.2</td>\n",
       "      <td>4.7</td>\n",
       "      <td>1.4</td>\n",
       "    </tr>\n",
       "    <tr>\n",
       "      <th>144</th>\n",
       "      <td>6.7</td>\n",
       "      <td>3.3</td>\n",
       "      <td>5.7</td>\n",
       "      <td>2.5</td>\n",
       "    </tr>\n",
       "    <tr>\n",
       "      <th>2</th>\n",
       "      <td>4.7</td>\n",
       "      <td>3.2</td>\n",
       "      <td>1.3</td>\n",
       "      <td>0.2</td>\n",
       "    </tr>\n",
       "    <tr>\n",
       "      <th>54</th>\n",
       "      <td>6.5</td>\n",
       "      <td>2.8</td>\n",
       "      <td>4.6</td>\n",
       "      <td>1.5</td>\n",
       "    </tr>\n",
       "  </tbody>\n",
       "</table>\n",
       "</div>"
      ],
      "text/plain": [
       "     sepal_length_cm  sepal_width_cm  petal_length_cm  petal_width_cm\n",
       "59               5.2             2.7              3.9             1.4\n",
       "50               7.0             3.2              4.7             1.4\n",
       "144              6.7             3.3              5.7             2.5\n",
       "2                4.7             3.2              1.3             0.2\n",
       "54               6.5             2.8              4.6             1.5"
      ]
     },
     "execution_count": 2,
     "metadata": {},
     "output_type": "execute_result"
    }
   ],
   "source": [
    "X = df[df.columns[:-1]]  # todas las columnas menos la última, que es la clase\n",
    "X.head(5)"
   ]
  },
  {
   "cell_type": "code",
   "execution_count": 3,
   "metadata": {},
   "outputs": [
    {
     "data": {
      "text/plain": [
       "59     Iris-versicolor\n",
       "50     Iris-versicolor\n",
       "144     Iris-virginica\n",
       "2          Iris-setosa\n",
       "54     Iris-versicolor\n",
       "Name: class, dtype: object"
      ]
     },
     "execution_count": 3,
     "metadata": {},
     "output_type": "execute_result"
    }
   ],
   "source": [
    "y = df[\"class\"]  # los resultados\n",
    "y.head(5)"
   ]
  },
  {
   "cell_type": "code",
   "execution_count": 4,
   "metadata": {},
   "outputs": [
    {
     "name": "stderr",
     "output_type": "stream",
     "text": [
      "/home/ander/.local/lib/python3.6/site-packages/sklearn/model_selection/_split.py:2069: FutureWarning: From version 0.21, test_size will always complement train_size unless both are specified.\n",
      "  FutureWarning)\n"
     ]
    }
   ],
   "source": [
    "train_X, test_X, train_y, test_y = train_test_split(X, y, train_size=0.5, random_state=0)"
   ]
  },
  {
   "cell_type": "code",
   "execution_count": 5,
   "metadata": {},
   "outputs": [
    {
     "name": "stdout",
     "output_type": "stream",
     "text": [
      "(75, 4)\n",
      "(75,)\n",
      "(75, 4)\n",
      "(75,)\n"
     ]
    }
   ],
   "source": [
    "print(train_X.shape)\n",
    "print(train_y.shape)\n",
    "print(test_X.shape)\n",
    "print(test_y.shape)"
   ]
  },
  {
   "cell_type": "code",
   "execution_count": 6,
   "metadata": {},
   "outputs": [
    {
     "name": "stdout",
     "output_type": "stream",
     "text": [
      "['Iris-setosa' 'Iris-versicolor' 'Iris-virginica']\n"
     ]
    }
   ],
   "source": [
    "class_values = train_y.unique()\n",
    "print(class_values)"
   ]
  },
  {
   "cell_type": "code",
   "execution_count": 7,
   "metadata": {},
   "outputs": [
    {
     "data": {
      "text/plain": [
       "2          Iris-setosa\n",
       "85     Iris-versicolor\n",
       "58     Iris-versicolor\n",
       "91     Iris-versicolor\n",
       "124     Iris-virginica\n",
       "Name: class, dtype: object"
      ]
     },
     "execution_count": 7,
     "metadata": {},
     "output_type": "execute_result"
    }
   ],
   "source": [
    "train_y.head(5)  # strings no nos valen como salida de la red"
   ]
  },
  {
   "cell_type": "code",
   "execution_count": 8,
   "metadata": {},
   "outputs": [
    {
     "data": {
      "text/html": [
       "<div>\n",
       "<style scoped>\n",
       "    .dataframe tbody tr th:only-of-type {\n",
       "        vertical-align: middle;\n",
       "    }\n",
       "\n",
       "    .dataframe tbody tr th {\n",
       "        vertical-align: top;\n",
       "    }\n",
       "\n",
       "    .dataframe thead th {\n",
       "        text-align: right;\n",
       "    }\n",
       "</style>\n",
       "<table border=\"1\" class=\"dataframe\">\n",
       "  <thead>\n",
       "    <tr style=\"text-align: right;\">\n",
       "      <th></th>\n",
       "      <th>Iris-setosa</th>\n",
       "      <th>Iris-versicolor</th>\n",
       "      <th>Iris-virginica</th>\n",
       "    </tr>\n",
       "  </thead>\n",
       "  <tbody>\n",
       "    <tr>\n",
       "      <th>2</th>\n",
       "      <td>1</td>\n",
       "      <td>0</td>\n",
       "      <td>0</td>\n",
       "    </tr>\n",
       "    <tr>\n",
       "      <th>85</th>\n",
       "      <td>0</td>\n",
       "      <td>1</td>\n",
       "      <td>0</td>\n",
       "    </tr>\n",
       "    <tr>\n",
       "      <th>58</th>\n",
       "      <td>0</td>\n",
       "      <td>1</td>\n",
       "      <td>0</td>\n",
       "    </tr>\n",
       "    <tr>\n",
       "      <th>91</th>\n",
       "      <td>0</td>\n",
       "      <td>1</td>\n",
       "      <td>0</td>\n",
       "    </tr>\n",
       "    <tr>\n",
       "      <th>124</th>\n",
       "      <td>0</td>\n",
       "      <td>0</td>\n",
       "      <td>1</td>\n",
       "    </tr>\n",
       "  </tbody>\n",
       "</table>\n",
       "</div>"
      ],
      "text/plain": [
       "     Iris-setosa  Iris-versicolor  Iris-virginica\n",
       "2              1                0               0\n",
       "85             0                1               0\n",
       "58             0                1               0\n",
       "91             0                1               0\n",
       "124            0                0               1"
      ]
     },
     "execution_count": 8,
     "metadata": {},
     "output_type": "execute_result"
    }
   ],
   "source": [
    "train_y = pd.get_dummies(train_y)\n",
    "train_y.head(5)  # ahora si que nos vale como salida de la red"
   ]
  },
  {
   "cell_type": "code",
   "execution_count": 9,
   "metadata": {},
   "outputs": [
    {
     "data": {
      "text/html": [
       "<div>\n",
       "<style scoped>\n",
       "    .dataframe tbody tr th:only-of-type {\n",
       "        vertical-align: middle;\n",
       "    }\n",
       "\n",
       "    .dataframe tbody tr th {\n",
       "        vertical-align: top;\n",
       "    }\n",
       "\n",
       "    .dataframe thead th {\n",
       "        text-align: right;\n",
       "    }\n",
       "</style>\n",
       "<table border=\"1\" class=\"dataframe\">\n",
       "  <thead>\n",
       "    <tr style=\"text-align: right;\">\n",
       "      <th></th>\n",
       "      <th>Iris-setosa</th>\n",
       "      <th>Iris-versicolor</th>\n",
       "      <th>Iris-virginica</th>\n",
       "    </tr>\n",
       "  </thead>\n",
       "  <tbody>\n",
       "    <tr>\n",
       "      <th>25</th>\n",
       "      <td>1</td>\n",
       "      <td>0</td>\n",
       "      <td>0</td>\n",
       "    </tr>\n",
       "    <tr>\n",
       "      <th>23</th>\n",
       "      <td>1</td>\n",
       "      <td>0</td>\n",
       "      <td>0</td>\n",
       "    </tr>\n",
       "    <tr>\n",
       "      <th>27</th>\n",
       "      <td>1</td>\n",
       "      <td>0</td>\n",
       "      <td>0</td>\n",
       "    </tr>\n",
       "    <tr>\n",
       "      <th>10</th>\n",
       "      <td>1</td>\n",
       "      <td>0</td>\n",
       "      <td>0</td>\n",
       "    </tr>\n",
       "    <tr>\n",
       "      <th>22</th>\n",
       "      <td>1</td>\n",
       "      <td>0</td>\n",
       "      <td>0</td>\n",
       "    </tr>\n",
       "  </tbody>\n",
       "</table>\n",
       "</div>"
      ],
      "text/plain": [
       "    Iris-setosa  Iris-versicolor  Iris-virginica\n",
       "25            1                0               0\n",
       "23            1                0               0\n",
       "27            1                0               0\n",
       "10            1                0               0\n",
       "22            1                0               0"
      ]
     },
     "execution_count": 9,
     "metadata": {},
     "output_type": "execute_result"
    }
   ],
   "source": [
    "test_y = pd.get_dummies(test_y)  # hacemos lo mismo para los resultados del test\n",
    "test_y.head(5)"
   ]
  },
  {
   "cell_type": "code",
   "execution_count": 10,
   "metadata": {},
   "outputs": [
    {
     "name": "stdout",
     "output_type": "stream",
     "text": [
      "(75, 4)\n",
      "(75, 3)\n",
      "(75, 4)\n",
      "(75, 3)\n"
     ]
    }
   ],
   "source": [
    "print(train_X.shape)\n",
    "print(train_y.shape)\n",
    "print(test_X.shape)\n",
    "print(test_y.shape)"
   ]
  },
  {
   "cell_type": "code",
   "execution_count": 11,
   "metadata": {},
   "outputs": [],
   "source": [
    "# ahora que ya tenemos los datos preprocesados podemos crear la red"
   ]
  },
  {
   "cell_type": "code",
   "execution_count": 12,
   "metadata": {},
   "outputs": [],
   "source": [
    "model = Sequential()\n",
    "model.add(Dense(16, input_shape=(4,), activation=\"sigmoid\"))\n",
    "model.add(Dense(3, activation=\"softmax\"))\n",
    "model.compile(loss='categorical_crossentropy', optimizer='adam',  metrics=['accuracy'])\n",
    "# habrá que repasar loss y optimizer para ver que valores poner"
   ]
  },
  {
   "cell_type": "code",
   "execution_count": 13,
   "metadata": {},
   "outputs": [
    {
     "name": "stdout",
     "output_type": "stream",
     "text": [
      "_________________________________________________________________\n",
      "Layer (type)                 Output Shape              Param #   \n",
      "=================================================================\n",
      "dense_1 (Dense)              (None, 16)                80        \n",
      "_________________________________________________________________\n",
      "dense_2 (Dense)              (None, 3)                 51        \n",
      "=================================================================\n",
      "Total params: 131\n",
      "Trainable params: 131\n",
      "Non-trainable params: 0\n",
      "_________________________________________________________________\n"
     ]
    }
   ],
   "source": [
    "model.summary()"
   ]
  },
  {
   "cell_type": "code",
   "execution_count": 14,
   "metadata": {},
   "outputs": [
    {
     "name": "stdout",
     "output_type": "stream",
     "text": [
      "Train on 75 samples, validate on 75 samples\n",
      "Epoch 1/200\n",
      "75/75 [==============================] - 0s 2ms/step - loss: 1.0870 - acc: 0.4267 - val_loss: 1.1407 - val_acc: 0.2400\n",
      "Epoch 2/200\n",
      "75/75 [==============================] - 0s 62us/step - loss: 1.0771 - acc: 0.4267 - val_loss: 1.1330 - val_acc: 0.2400\n",
      "Epoch 3/200\n",
      "75/75 [==============================] - 0s 60us/step - loss: 1.0679 - acc: 0.4267 - val_loss: 1.1258 - val_acc: 0.2400\n",
      "Epoch 4/200\n",
      "75/75 [==============================] - 0s 58us/step - loss: 1.0608 - acc: 0.4267 - val_loss: 1.1174 - val_acc: 0.2400\n",
      "Epoch 5/200\n",
      "75/75 [==============================] - 0s 57us/step - loss: 1.0520 - acc: 0.4267 - val_loss: 1.1116 - val_acc: 0.2400\n",
      "Epoch 6/200\n",
      "75/75 [==============================] - 0s 133us/step - loss: 1.0458 - acc: 0.4267 - val_loss: 1.1059 - val_acc: 0.2400\n",
      "Epoch 7/200\n",
      "75/75 [==============================] - 0s 61us/step - loss: 1.0390 - acc: 0.4267 - val_loss: 1.0992 - val_acc: 0.2400\n",
      "Epoch 8/200\n",
      "75/75 [==============================] - 0s 109us/step - loss: 1.0319 - acc: 0.4267 - val_loss: 1.0921 - val_acc: 0.2400\n",
      "Epoch 9/200\n",
      "75/75 [==============================] - 0s 74us/step - loss: 1.0267 - acc: 0.4267 - val_loss: 1.0843 - val_acc: 0.2400\n",
      "Epoch 10/200\n",
      "75/75 [==============================] - 0s 126us/step - loss: 1.0198 - acc: 0.4267 - val_loss: 1.0769 - val_acc: 0.2400\n",
      "Epoch 11/200\n",
      "75/75 [==============================] - 0s 77us/step - loss: 1.0136 - acc: 0.4267 - val_loss: 1.0703 - val_acc: 0.2400\n",
      "Epoch 12/200\n",
      "75/75 [==============================] - 0s 82us/step - loss: 1.0087 - acc: 0.4267 - val_loss: 1.0625 - val_acc: 0.2400\n",
      "Epoch 13/200\n",
      "75/75 [==============================] - 0s 90us/step - loss: 1.0026 - acc: 0.4267 - val_loss: 1.0561 - val_acc: 0.2400\n",
      "Epoch 14/200\n",
      "75/75 [==============================] - 0s 60us/step - loss: 0.9973 - acc: 0.4267 - val_loss: 1.0485 - val_acc: 0.2400\n",
      "Epoch 15/200\n",
      "75/75 [==============================] - 0s 95us/step - loss: 0.9918 - acc: 0.4267 - val_loss: 1.0406 - val_acc: 0.2400\n",
      "Epoch 16/200\n",
      "75/75 [==============================] - 0s 74us/step - loss: 0.9868 - acc: 0.4267 - val_loss: 1.0323 - val_acc: 0.2400\n",
      "Epoch 17/200\n",
      "75/75 [==============================] - 0s 95us/step - loss: 0.9810 - acc: 0.4267 - val_loss: 1.0236 - val_acc: 0.2400\n",
      "Epoch 18/200\n",
      "75/75 [==============================] - 0s 79us/step - loss: 0.9765 - acc: 0.4267 - val_loss: 1.0139 - val_acc: 0.2400\n",
      "Epoch 19/200\n",
      "75/75 [==============================] - 0s 57us/step - loss: 0.9714 - acc: 0.4267 - val_loss: 1.0050 - val_acc: 0.2400\n",
      "Epoch 20/200\n",
      "75/75 [==============================] - 0s 118us/step - loss: 0.9674 - acc: 0.4267 - val_loss: 0.9957 - val_acc: 0.2400\n",
      "Epoch 21/200\n",
      "75/75 [==============================] - 0s 67us/step - loss: 0.9629 - acc: 0.4400 - val_loss: 0.9884 - val_acc: 0.2400\n",
      "Epoch 22/200\n",
      "75/75 [==============================] - 0s 85us/step - loss: 0.9584 - acc: 0.4400 - val_loss: 0.9829 - val_acc: 0.2400\n",
      "Epoch 23/200\n",
      "75/75 [==============================] - 0s 99us/step - loss: 0.9540 - acc: 0.4400 - val_loss: 0.9787 - val_acc: 0.2400\n",
      "Epoch 24/200\n",
      "75/75 [==============================] - 0s 62us/step - loss: 0.9497 - acc: 0.4400 - val_loss: 0.9734 - val_acc: 0.2400\n",
      "Epoch 25/200\n",
      "75/75 [==============================] - 0s 102us/step - loss: 0.9454 - acc: 0.4400 - val_loss: 0.9670 - val_acc: 0.2400\n",
      "Epoch 26/200\n",
      "75/75 [==============================] - 0s 85us/step - loss: 0.9410 - acc: 0.4400 - val_loss: 0.9598 - val_acc: 0.2400\n",
      "Epoch 27/200\n",
      "75/75 [==============================] - 0s 97us/step - loss: 0.9368 - acc: 0.4400 - val_loss: 0.9527 - val_acc: 0.2533\n",
      "Epoch 28/200\n",
      "75/75 [==============================] - 0s 92us/step - loss: 0.9326 - acc: 0.4400 - val_loss: 0.9471 - val_acc: 0.2533\n",
      "Epoch 29/200\n",
      "75/75 [==============================] - 0s 117us/step - loss: 0.9286 - acc: 0.4400 - val_loss: 0.9422 - val_acc: 0.2533\n",
      "Epoch 30/200\n",
      "75/75 [==============================] - 0s 70us/step - loss: 0.9242 - acc: 0.4400 - val_loss: 0.9382 - val_acc: 0.2533\n",
      "Epoch 31/200\n",
      "75/75 [==============================] - 0s 70us/step - loss: 0.9199 - acc: 0.4400 - val_loss: 0.9329 - val_acc: 0.2533\n",
      "Epoch 32/200\n",
      "75/75 [==============================] - 0s 102us/step - loss: 0.9158 - acc: 0.4400 - val_loss: 0.9289 - val_acc: 0.2667\n",
      "Epoch 33/200\n",
      "75/75 [==============================] - 0s 87us/step - loss: 0.9115 - acc: 0.4400 - val_loss: 0.9254 - val_acc: 0.2667\n",
      "Epoch 34/200\n",
      "75/75 [==============================] - 0s 110us/step - loss: 0.9074 - acc: 0.4400 - val_loss: 0.9208 - val_acc: 0.2667\n",
      "Epoch 35/200\n",
      "75/75 [==============================] - 0s 93us/step - loss: 0.9031 - acc: 0.4400 - val_loss: 0.9158 - val_acc: 0.2933\n",
      "Epoch 36/200\n",
      "75/75 [==============================] - 0s 74us/step - loss: 0.8990 - acc: 0.4533 - val_loss: 0.9112 - val_acc: 0.2933\n",
      "Epoch 37/200\n",
      "75/75 [==============================] - 0s 81us/step - loss: 0.8948 - acc: 0.4667 - val_loss: 0.9070 - val_acc: 0.2933\n",
      "Epoch 38/200\n",
      "75/75 [==============================] - 0s 111us/step - loss: 0.8904 - acc: 0.4800 - val_loss: 0.9027 - val_acc: 0.3067\n",
      "Epoch 39/200\n",
      "75/75 [==============================] - 0s 75us/step - loss: 0.8861 - acc: 0.4933 - val_loss: 0.8985 - val_acc: 0.3333\n",
      "Epoch 40/200\n",
      "75/75 [==============================] - 0s 68us/step - loss: 0.8820 - acc: 0.5333 - val_loss: 0.8937 - val_acc: 0.4267\n",
      "Epoch 41/200\n",
      "75/75 [==============================] - 0s 132us/step - loss: 0.8777 - acc: 0.5733 - val_loss: 0.8896 - val_acc: 0.4533\n",
      "Epoch 42/200\n",
      "75/75 [==============================] - 0s 73us/step - loss: 0.8735 - acc: 0.6400 - val_loss: 0.8853 - val_acc: 0.5067\n",
      "Epoch 43/200\n",
      "75/75 [==============================] - 0s 71us/step - loss: 0.8696 - acc: 0.6800 - val_loss: 0.8799 - val_acc: 0.5733\n",
      "Epoch 44/200\n",
      "75/75 [==============================] - 0s 99us/step - loss: 0.8651 - acc: 0.6933 - val_loss: 0.8732 - val_acc: 0.6133\n",
      "Epoch 45/200\n",
      "75/75 [==============================] - 0s 71us/step - loss: 0.8608 - acc: 0.7067 - val_loss: 0.8663 - val_acc: 0.6267\n",
      "Epoch 46/200\n",
      "75/75 [==============================] - 0s 85us/step - loss: 0.8568 - acc: 0.7200 - val_loss: 0.8593 - val_acc: 0.6533\n",
      "Epoch 47/200\n",
      "75/75 [==============================] - 0s 73us/step - loss: 0.8521 - acc: 0.7200 - val_loss: 0.8535 - val_acc: 0.6533\n",
      "Epoch 48/200\n",
      "75/75 [==============================] - 0s 80us/step - loss: 0.8479 - acc: 0.7200 - val_loss: 0.8467 - val_acc: 0.6667\n",
      "Epoch 49/200\n",
      "75/75 [==============================] - 0s 92us/step - loss: 0.8435 - acc: 0.7333 - val_loss: 0.8405 - val_acc: 0.6800\n",
      "Epoch 50/200\n",
      "75/75 [==============================] - 0s 86us/step - loss: 0.8392 - acc: 0.7333 - val_loss: 0.8340 - val_acc: 0.7200\n",
      "Epoch 51/200\n",
      "75/75 [==============================] - 0s 101us/step - loss: 0.8345 - acc: 0.7467 - val_loss: 0.8269 - val_acc: 0.7333\n",
      "Epoch 52/200\n",
      "75/75 [==============================] - 0s 64us/step - loss: 0.8305 - acc: 0.8133 - val_loss: 0.8185 - val_acc: 0.7867\n",
      "Epoch 53/200\n",
      "75/75 [==============================] - 0s 100us/step - loss: 0.8265 - acc: 0.8133 - val_loss: 0.8110 - val_acc: 0.8933\n",
      "Epoch 54/200\n",
      "75/75 [==============================] - 0s 72us/step - loss: 0.8222 - acc: 0.8267 - val_loss: 0.8053 - val_acc: 0.8933\n",
      "Epoch 55/200\n",
      "75/75 [==============================] - 0s 77us/step - loss: 0.8179 - acc: 0.8267 - val_loss: 0.8005 - val_acc: 0.8933\n",
      "Epoch 56/200\n",
      "75/75 [==============================] - 0s 90us/step - loss: 0.8137 - acc: 0.8267 - val_loss: 0.7956 - val_acc: 0.8933\n",
      "Epoch 57/200\n",
      "75/75 [==============================] - 0s 69us/step - loss: 0.8092 - acc: 0.8267 - val_loss: 0.7919 - val_acc: 0.8667\n",
      "Epoch 58/200\n",
      "75/75 [==============================] - 0s 64us/step - loss: 0.8049 - acc: 0.8267 - val_loss: 0.7884 - val_acc: 0.8133\n",
      "Epoch 59/200\n",
      "75/75 [==============================] - 0s 132us/step - loss: 0.8006 - acc: 0.8133 - val_loss: 0.7844 - val_acc: 0.7867\n",
      "Epoch 60/200\n",
      "75/75 [==============================] - 0s 70us/step - loss: 0.7962 - acc: 0.8133 - val_loss: 0.7798 - val_acc: 0.7867\n",
      "Epoch 61/200\n",
      "75/75 [==============================] - 0s 77us/step - loss: 0.7921 - acc: 0.8133 - val_loss: 0.7740 - val_acc: 0.7867\n",
      "Epoch 62/200\n",
      "75/75 [==============================] - 0s 83us/step - loss: 0.7878 - acc: 0.8133 - val_loss: 0.7702 - val_acc: 0.7867\n",
      "Epoch 63/200\n",
      "75/75 [==============================] - 0s 59us/step - loss: 0.7833 - acc: 0.8133 - val_loss: 0.7660 - val_acc: 0.7867\n",
      "Epoch 64/200\n",
      "75/75 [==============================] - 0s 86us/step - loss: 0.7791 - acc: 0.8133 - val_loss: 0.7624 - val_acc: 0.7867\n",
      "Epoch 65/200\n",
      "75/75 [==============================] - 0s 84us/step - loss: 0.7749 - acc: 0.8133 - val_loss: 0.7579 - val_acc: 0.7867\n",
      "Epoch 66/200\n",
      "75/75 [==============================] - 0s 76us/step - loss: 0.7707 - acc: 0.8133 - val_loss: 0.7527 - val_acc: 0.7867\n",
      "Epoch 67/200\n",
      "75/75 [==============================] - 0s 83us/step - loss: 0.7666 - acc: 0.8133 - val_loss: 0.7480 - val_acc: 0.7867\n",
      "Epoch 68/200\n",
      "75/75 [==============================] - 0s 72us/step - loss: 0.7624 - acc: 0.8133 - val_loss: 0.7432 - val_acc: 0.8000\n",
      "Epoch 69/200\n",
      "75/75 [==============================] - 0s 83us/step - loss: 0.7584 - acc: 0.8133 - val_loss: 0.7377 - val_acc: 0.8000\n",
      "Epoch 70/200\n",
      "75/75 [==============================] - 0s 61us/step - loss: 0.7540 - acc: 0.8133 - val_loss: 0.7327 - val_acc: 0.8000\n",
      "Epoch 71/200\n",
      "75/75 [==============================] - 0s 85us/step - loss: 0.7497 - acc: 0.8133 - val_loss: 0.7273 - val_acc: 0.8000\n",
      "Epoch 72/200\n",
      "75/75 [==============================] - 0s 54us/step - loss: 0.7456 - acc: 0.8133 - val_loss: 0.7222 - val_acc: 0.8000\n",
      "Epoch 73/200\n",
      "75/75 [==============================] - 0s 78us/step - loss: 0.7412 - acc: 0.8267 - val_loss: 0.7181 - val_acc: 0.8000\n",
      "Epoch 74/200\n",
      "75/75 [==============================] - 0s 82us/step - loss: 0.7372 - acc: 0.8267 - val_loss: 0.7138 - val_acc: 0.8000\n",
      "Epoch 75/200\n",
      "75/75 [==============================] - 0s 61us/step - loss: 0.7330 - acc: 0.8267 - val_loss: 0.7101 - val_acc: 0.8000\n",
      "Epoch 76/200\n",
      "75/75 [==============================] - 0s 76us/step - loss: 0.7291 - acc: 0.8133 - val_loss: 0.7069 - val_acc: 0.7867\n",
      "Epoch 77/200\n",
      "75/75 [==============================] - 0s 70us/step - loss: 0.7250 - acc: 0.8000 - val_loss: 0.7024 - val_acc: 0.7867\n",
      "Epoch 78/200\n",
      "75/75 [==============================] - 0s 60us/step - loss: 0.7208 - acc: 0.8133 - val_loss: 0.6967 - val_acc: 0.8000\n",
      "Epoch 79/200\n",
      "75/75 [==============================] - 0s 70us/step - loss: 0.7173 - acc: 0.8267 - val_loss: 0.6901 - val_acc: 0.8400\n",
      "Epoch 80/200\n",
      "75/75 [==============================] - 0s 77us/step - loss: 0.7128 - acc: 0.8400 - val_loss: 0.6850 - val_acc: 0.8533\n",
      "Epoch 81/200\n",
      "75/75 [==============================] - 0s 66us/step - loss: 0.7090 - acc: 0.8533 - val_loss: 0.6795 - val_acc: 0.9067\n",
      "Epoch 82/200\n",
      "75/75 [==============================] - 0s 70us/step - loss: 0.7050 - acc: 0.8667 - val_loss: 0.6747 - val_acc: 0.9200\n",
      "Epoch 83/200\n",
      "75/75 [==============================] - 0s 70us/step - loss: 0.7011 - acc: 0.8800 - val_loss: 0.6698 - val_acc: 0.9200\n",
      "Epoch 84/200\n",
      "75/75 [==============================] - 0s 58us/step - loss: 0.6974 - acc: 0.8800 - val_loss: 0.6652 - val_acc: 0.9200\n",
      "Epoch 85/200\n",
      "75/75 [==============================] - 0s 67us/step - loss: 0.6933 - acc: 0.8800 - val_loss: 0.6597 - val_acc: 0.9333\n",
      "Epoch 86/200\n",
      "75/75 [==============================] - 0s 60us/step - loss: 0.6897 - acc: 0.9200 - val_loss: 0.6537 - val_acc: 0.9600\n",
      "Epoch 87/200\n",
      "75/75 [==============================] - 0s 63us/step - loss: 0.6864 - acc: 0.9333 - val_loss: 0.6474 - val_acc: 0.9600\n",
      "Epoch 88/200\n",
      "75/75 [==============================] - 0s 58us/step - loss: 0.6827 - acc: 0.9333 - val_loss: 0.6420 - val_acc: 0.9600\n",
      "Epoch 89/200\n",
      "75/75 [==============================] - 0s 60us/step - loss: 0.6792 - acc: 0.9333 - val_loss: 0.6375 - val_acc: 0.9600\n",
      "Epoch 90/200\n",
      "75/75 [==============================] - 0s 71us/step - loss: 0.6759 - acc: 0.9333 - val_loss: 0.6329 - val_acc: 0.9600\n",
      "Epoch 91/200\n",
      "75/75 [==============================] - 0s 77us/step - loss: 0.6722 - acc: 0.9333 - val_loss: 0.6288 - val_acc: 0.9600\n",
      "Epoch 92/200\n",
      "75/75 [==============================] - 0s 65us/step - loss: 0.6685 - acc: 0.9333 - val_loss: 0.6252 - val_acc: 0.9600\n",
      "Epoch 93/200\n",
      "75/75 [==============================] - 0s 71us/step - loss: 0.6648 - acc: 0.9333 - val_loss: 0.6219 - val_acc: 0.9600\n",
      "Epoch 94/200\n",
      "75/75 [==============================] - 0s 93us/step - loss: 0.6611 - acc: 0.9333 - val_loss: 0.6186 - val_acc: 0.9600\n",
      "Epoch 95/200\n",
      "75/75 [==============================] - 0s 64us/step - loss: 0.6577 - acc: 0.9333 - val_loss: 0.6147 - val_acc: 0.9600\n",
      "Epoch 96/200\n",
      "75/75 [==============================] - 0s 67us/step - loss: 0.6542 - acc: 0.9333 - val_loss: 0.6101 - val_acc: 0.9600\n",
      "Epoch 97/200\n",
      "75/75 [==============================] - 0s 76us/step - loss: 0.6509 - acc: 0.9333 - val_loss: 0.6065 - val_acc: 0.9600\n",
      "Epoch 98/200\n",
      "75/75 [==============================] - 0s 81us/step - loss: 0.6475 - acc: 0.9333 - val_loss: 0.6029 - val_acc: 0.9600\n",
      "Epoch 99/200\n",
      "75/75 [==============================] - 0s 64us/step - loss: 0.6441 - acc: 0.9333 - val_loss: 0.6005 - val_acc: 0.9600\n",
      "Epoch 100/200\n",
      "75/75 [==============================] - 0s 74us/step - loss: 0.6409 - acc: 0.9200 - val_loss: 0.5992 - val_acc: 0.9333\n",
      "Epoch 101/200\n",
      "75/75 [==============================] - 0s 81us/step - loss: 0.6373 - acc: 0.9200 - val_loss: 0.5971 - val_acc: 0.9333\n",
      "Epoch 102/200\n",
      "75/75 [==============================] - 0s 63us/step - loss: 0.6340 - acc: 0.9200 - val_loss: 0.5954 - val_acc: 0.9067\n",
      "Epoch 103/200\n",
      "75/75 [==============================] - 0s 74us/step - loss: 0.6306 - acc: 0.8800 - val_loss: 0.5934 - val_acc: 0.8667\n",
      "Epoch 104/200\n",
      "75/75 [==============================] - 0s 82us/step - loss: 0.6276 - acc: 0.8667 - val_loss: 0.5913 - val_acc: 0.8667\n",
      "Epoch 105/200\n",
      "75/75 [==============================] - 0s 68us/step - loss: 0.6245 - acc: 0.8800 - val_loss: 0.5886 - val_acc: 0.8667\n",
      "Epoch 106/200\n",
      "75/75 [==============================] - 0s 67us/step - loss: 0.6214 - acc: 0.8667 - val_loss: 0.5863 - val_acc: 0.8533\n",
      "Epoch 107/200\n",
      "75/75 [==============================] - 0s 71us/step - loss: 0.6186 - acc: 0.8667 - val_loss: 0.5842 - val_acc: 0.8400\n",
      "Epoch 108/200\n",
      "75/75 [==============================] - 0s 60us/step - loss: 0.6156 - acc: 0.8667 - val_loss: 0.5815 - val_acc: 0.8400\n",
      "Epoch 109/200\n",
      "75/75 [==============================] - 0s 68us/step - loss: 0.6127 - acc: 0.8667 - val_loss: 0.5778 - val_acc: 0.8400\n",
      "Epoch 110/200\n",
      "75/75 [==============================] - 0s 69us/step - loss: 0.6097 - acc: 0.8667 - val_loss: 0.5740 - val_acc: 0.8667\n",
      "Epoch 111/200\n",
      "75/75 [==============================] - 0s 63us/step - loss: 0.6072 - acc: 0.8800 - val_loss: 0.5695 - val_acc: 0.8667\n",
      "Epoch 112/200\n",
      "75/75 [==============================] - 0s 64us/step - loss: 0.6041 - acc: 0.8800 - val_loss: 0.5666 - val_acc: 0.8667\n",
      "Epoch 113/200\n",
      "75/75 [==============================] - 0s 58us/step - loss: 0.6015 - acc: 0.8800 - val_loss: 0.5634 - val_acc: 0.8667\n",
      "Epoch 114/200\n",
      "75/75 [==============================] - 0s 66us/step - loss: 0.5985 - acc: 0.8800 - val_loss: 0.5612 - val_acc: 0.8667\n",
      "Epoch 115/200\n",
      "75/75 [==============================] - 0s 73us/step - loss: 0.5959 - acc: 0.8667 - val_loss: 0.5604 - val_acc: 0.8400\n",
      "Epoch 116/200\n",
      "75/75 [==============================] - 0s 60us/step - loss: 0.5931 - acc: 0.8667 - val_loss: 0.5585 - val_acc: 0.8267\n",
      "Epoch 117/200\n",
      "75/75 [==============================] - 0s 66us/step - loss: 0.5905 - acc: 0.8400 - val_loss: 0.5556 - val_acc: 0.8400\n",
      "Epoch 118/200\n",
      "75/75 [==============================] - 0s 82us/step - loss: 0.5879 - acc: 0.8667 - val_loss: 0.5517 - val_acc: 0.8400\n",
      "Epoch 119/200\n",
      "75/75 [==============================] - 0s 84us/step - loss: 0.5854 - acc: 0.8667 - val_loss: 0.5478 - val_acc: 0.8667\n",
      "Epoch 120/200\n",
      "75/75 [==============================] - 0s 73us/step - loss: 0.5828 - acc: 0.8667 - val_loss: 0.5449 - val_acc: 0.8667\n",
      "Epoch 121/200\n",
      "75/75 [==============================] - 0s 85us/step - loss: 0.5802 - acc: 0.8667 - val_loss: 0.5422 - val_acc: 0.8667\n",
      "Epoch 122/200\n",
      "75/75 [==============================] - 0s 62us/step - loss: 0.5778 - acc: 0.8800 - val_loss: 0.5390 - val_acc: 0.8667\n",
      "Epoch 123/200\n"
     ]
    },
    {
     "name": "stdout",
     "output_type": "stream",
     "text": [
      "75/75 [==============================] - 0s 75us/step - loss: 0.5754 - acc: 0.8800 - val_loss: 0.5370 - val_acc: 0.8667\n",
      "Epoch 124/200\n",
      "75/75 [==============================] - 0s 91us/step - loss: 0.5729 - acc: 0.8667 - val_loss: 0.5348 - val_acc: 0.8533\n",
      "Epoch 125/200\n",
      "75/75 [==============================] - 0s 79us/step - loss: 0.5709 - acc: 0.8667 - val_loss: 0.5330 - val_acc: 0.8400\n",
      "Epoch 126/200\n",
      "75/75 [==============================] - 0s 70us/step - loss: 0.5680 - acc: 0.8667 - val_loss: 0.5295 - val_acc: 0.8667\n",
      "Epoch 127/200\n",
      "75/75 [==============================] - 0s 67us/step - loss: 0.5659 - acc: 0.8800 - val_loss: 0.5246 - val_acc: 0.9200\n",
      "Epoch 128/200\n",
      "75/75 [==============================] - 0s 83us/step - loss: 0.5636 - acc: 0.9067 - val_loss: 0.5210 - val_acc: 0.9333\n",
      "Epoch 129/200\n",
      "75/75 [==============================] - 0s 88us/step - loss: 0.5615 - acc: 0.9200 - val_loss: 0.5179 - val_acc: 0.9467\n",
      "Epoch 130/200\n",
      "75/75 [==============================] - 0s 79us/step - loss: 0.5593 - acc: 0.9200 - val_loss: 0.5148 - val_acc: 0.9600\n",
      "Epoch 131/200\n",
      "75/75 [==============================] - 0s 65us/step - loss: 0.5573 - acc: 0.9333 - val_loss: 0.5118 - val_acc: 0.9600\n",
      "Epoch 132/200\n",
      "75/75 [==============================] - 0s 71us/step - loss: 0.5554 - acc: 0.9333 - val_loss: 0.5093 - val_acc: 0.9600\n",
      "Epoch 133/200\n",
      "75/75 [==============================] - 0s 65us/step - loss: 0.5535 - acc: 0.9333 - val_loss: 0.5076 - val_acc: 0.9600\n",
      "Epoch 134/200\n",
      "75/75 [==============================] - 0s 61us/step - loss: 0.5515 - acc: 0.9333 - val_loss: 0.5051 - val_acc: 0.9600\n",
      "Epoch 135/200\n",
      "75/75 [==============================] - 0s 119us/step - loss: 0.5494 - acc: 0.9333 - val_loss: 0.5028 - val_acc: 0.9600\n",
      "Epoch 136/200\n",
      "75/75 [==============================] - 0s 61us/step - loss: 0.5473 - acc: 0.9333 - val_loss: 0.5019 - val_acc: 0.9600\n",
      "Epoch 137/200\n",
      "75/75 [==============================] - 0s 71us/step - loss: 0.5451 - acc: 0.9333 - val_loss: 0.5014 - val_acc: 0.9600\n",
      "Epoch 138/200\n",
      "75/75 [==============================] - 0s 76us/step - loss: 0.5429 - acc: 0.9200 - val_loss: 0.5008 - val_acc: 0.9333\n",
      "Epoch 139/200\n",
      "75/75 [==============================] - 0s 60us/step - loss: 0.5406 - acc: 0.9200 - val_loss: 0.5000 - val_acc: 0.9200\n",
      "Epoch 140/200\n",
      "75/75 [==============================] - 0s 88us/step - loss: 0.5386 - acc: 0.9200 - val_loss: 0.4989 - val_acc: 0.9200\n",
      "Epoch 141/200\n",
      "75/75 [==============================] - 0s 83us/step - loss: 0.5366 - acc: 0.8933 - val_loss: 0.4972 - val_acc: 0.9200\n",
      "Epoch 142/200\n",
      "75/75 [==============================] - 0s 66us/step - loss: 0.5346 - acc: 0.8800 - val_loss: 0.4960 - val_acc: 0.9067\n",
      "Epoch 143/200\n",
      "75/75 [==============================] - 0s 66us/step - loss: 0.5329 - acc: 0.8800 - val_loss: 0.4950 - val_acc: 0.9067\n",
      "Epoch 144/200\n",
      "75/75 [==============================] - 0s 75us/step - loss: 0.5308 - acc: 0.8800 - val_loss: 0.4933 - val_acc: 0.8800\n",
      "Epoch 145/200\n",
      "75/75 [==============================] - 0s 65us/step - loss: 0.5289 - acc: 0.8800 - val_loss: 0.4914 - val_acc: 0.8800\n",
      "Epoch 146/200\n",
      "75/75 [==============================] - 0s 78us/step - loss: 0.5270 - acc: 0.8800 - val_loss: 0.4889 - val_acc: 0.9067\n",
      "Epoch 147/200\n",
      "75/75 [==============================] - 0s 81us/step - loss: 0.5251 - acc: 0.8800 - val_loss: 0.4859 - val_acc: 0.9067\n",
      "Epoch 148/200\n",
      "75/75 [==============================] - 0s 162us/step - loss: 0.5234 - acc: 0.8800 - val_loss: 0.4832 - val_acc: 0.9200\n",
      "Epoch 149/200\n",
      "75/75 [==============================] - 0s 73us/step - loss: 0.5217 - acc: 0.8933 - val_loss: 0.4808 - val_acc: 0.9200\n",
      "Epoch 150/200\n",
      "75/75 [==============================] - 0s 75us/step - loss: 0.5199 - acc: 0.8933 - val_loss: 0.4787 - val_acc: 0.9200\n",
      "Epoch 151/200\n",
      "75/75 [==============================] - 0s 76us/step - loss: 0.5180 - acc: 0.9067 - val_loss: 0.4771 - val_acc: 0.9200\n",
      "Epoch 152/200\n",
      "75/75 [==============================] - 0s 78us/step - loss: 0.5164 - acc: 0.9067 - val_loss: 0.4754 - val_acc: 0.9200\n",
      "Epoch 153/200\n",
      "75/75 [==============================] - 0s 100us/step - loss: 0.5146 - acc: 0.8933 - val_loss: 0.4747 - val_acc: 0.9067\n",
      "Epoch 154/200\n",
      "75/75 [==============================] - 0s 57us/step - loss: 0.5128 - acc: 0.8800 - val_loss: 0.4760 - val_acc: 0.8667\n",
      "Epoch 155/200\n",
      "75/75 [==============================] - 0s 60us/step - loss: 0.5113 - acc: 0.8667 - val_loss: 0.4766 - val_acc: 0.8400\n",
      "Epoch 156/200\n",
      "75/75 [==============================] - 0s 71us/step - loss: 0.5097 - acc: 0.8533 - val_loss: 0.4763 - val_acc: 0.8000\n",
      "Epoch 157/200\n",
      "75/75 [==============================] - 0s 72us/step - loss: 0.5080 - acc: 0.8400 - val_loss: 0.4748 - val_acc: 0.8133\n",
      "Epoch 158/200\n",
      "75/75 [==============================] - 0s 76us/step - loss: 0.5064 - acc: 0.8533 - val_loss: 0.4722 - val_acc: 0.8533\n",
      "Epoch 159/200\n",
      "75/75 [==============================] - 0s 72us/step - loss: 0.5046 - acc: 0.8533 - val_loss: 0.4703 - val_acc: 0.8533\n",
      "Epoch 160/200\n",
      "75/75 [==============================] - 0s 81us/step - loss: 0.5028 - acc: 0.8667 - val_loss: 0.4694 - val_acc: 0.8533\n",
      "Epoch 161/200\n",
      "75/75 [==============================] - 0s 72us/step - loss: 0.5013 - acc: 0.8533 - val_loss: 0.4682 - val_acc: 0.8533\n",
      "Epoch 162/200\n",
      "75/75 [==============================] - 0s 77us/step - loss: 0.4996 - acc: 0.8667 - val_loss: 0.4665 - val_acc: 0.8533\n",
      "Epoch 163/200\n",
      "75/75 [==============================] - 0s 70us/step - loss: 0.4983 - acc: 0.8667 - val_loss: 0.4651 - val_acc: 0.8533\n",
      "Epoch 164/200\n",
      "75/75 [==============================] - 0s 75us/step - loss: 0.4966 - acc: 0.8667 - val_loss: 0.4628 - val_acc: 0.8667\n",
      "Epoch 165/200\n",
      "75/75 [==============================] - 0s 69us/step - loss: 0.4949 - acc: 0.8667 - val_loss: 0.4605 - val_acc: 0.8800\n",
      "Epoch 166/200\n",
      "75/75 [==============================] - 0s 71us/step - loss: 0.4933 - acc: 0.8800 - val_loss: 0.4574 - val_acc: 0.9067\n",
      "Epoch 167/200\n",
      "75/75 [==============================] - 0s 62us/step - loss: 0.4918 - acc: 0.8800 - val_loss: 0.4546 - val_acc: 0.9200\n",
      "Epoch 168/200\n",
      "75/75 [==============================] - 0s 72us/step - loss: 0.4904 - acc: 0.8933 - val_loss: 0.4523 - val_acc: 0.9200\n",
      "Epoch 169/200\n",
      "75/75 [==============================] - 0s 92us/step - loss: 0.4888 - acc: 0.8933 - val_loss: 0.4507 - val_acc: 0.9200\n",
      "Epoch 170/200\n",
      "75/75 [==============================] - 0s 101us/step - loss: 0.4873 - acc: 0.8933 - val_loss: 0.4500 - val_acc: 0.9200\n",
      "Epoch 171/200\n",
      "75/75 [==============================] - 0s 64us/step - loss: 0.4859 - acc: 0.8933 - val_loss: 0.4498 - val_acc: 0.9067\n",
      "Epoch 172/200\n",
      "75/75 [==============================] - 0s 72us/step - loss: 0.4844 - acc: 0.8800 - val_loss: 0.4485 - val_acc: 0.9067\n",
      "Epoch 173/200\n",
      "75/75 [==============================] - 0s 111us/step - loss: 0.4829 - acc: 0.8933 - val_loss: 0.4465 - val_acc: 0.9067\n",
      "Epoch 174/200\n",
      "75/75 [==============================] - 0s 93us/step - loss: 0.4814 - acc: 0.8933 - val_loss: 0.4449 - val_acc: 0.9200\n",
      "Epoch 175/200\n",
      "75/75 [==============================] - 0s 67us/step - loss: 0.4800 - acc: 0.8933 - val_loss: 0.4432 - val_acc: 0.9200\n",
      "Epoch 176/200\n",
      "75/75 [==============================] - 0s 57us/step - loss: 0.4787 - acc: 0.8933 - val_loss: 0.4419 - val_acc: 0.9200\n",
      "Epoch 177/200\n",
      "75/75 [==============================] - 0s 110us/step - loss: 0.4772 - acc: 0.8933 - val_loss: 0.4399 - val_acc: 0.9200\n",
      "Epoch 178/200\n",
      "75/75 [==============================] - 0s 71us/step - loss: 0.4758 - acc: 0.9067 - val_loss: 0.4375 - val_acc: 0.9333\n",
      "Epoch 179/200\n",
      "75/75 [==============================] - 0s 79us/step - loss: 0.4745 - acc: 0.9200 - val_loss: 0.4357 - val_acc: 0.9467\n",
      "Epoch 180/200\n",
      "75/75 [==============================] - 0s 76us/step - loss: 0.4730 - acc: 0.9200 - val_loss: 0.4354 - val_acc: 0.9333\n",
      "Epoch 181/200\n",
      "75/75 [==============================] - 0s 66us/step - loss: 0.4715 - acc: 0.9067 - val_loss: 0.4346 - val_acc: 0.9200\n",
      "Epoch 182/200\n",
      "75/75 [==============================] - 0s 67us/step - loss: 0.4702 - acc: 0.8933 - val_loss: 0.4339 - val_acc: 0.9200\n",
      "Epoch 183/200\n",
      "75/75 [==============================] - 0s 64us/step - loss: 0.4688 - acc: 0.8933 - val_loss: 0.4335 - val_acc: 0.9067\n",
      "Epoch 184/200\n",
      "75/75 [==============================] - 0s 73us/step - loss: 0.4679 - acc: 0.8933 - val_loss: 0.4342 - val_acc: 0.9067\n",
      "Epoch 185/200\n",
      "75/75 [==============================] - 0s 82us/step - loss: 0.4663 - acc: 0.8800 - val_loss: 0.4326 - val_acc: 0.9067\n",
      "Epoch 186/200\n",
      "75/75 [==============================] - 0s 74us/step - loss: 0.4647 - acc: 0.8933 - val_loss: 0.4291 - val_acc: 0.9200\n",
      "Epoch 187/200\n",
      "75/75 [==============================] - 0s 63us/step - loss: 0.4631 - acc: 0.9067 - val_loss: 0.4254 - val_acc: 0.9467\n",
      "Epoch 188/200\n",
      "75/75 [==============================] - 0s 73us/step - loss: 0.4621 - acc: 0.9333 - val_loss: 0.4206 - val_acc: 0.9600\n",
      "Epoch 189/200\n",
      "75/75 [==============================] - 0s 65us/step - loss: 0.4606 - acc: 0.9333 - val_loss: 0.4169 - val_acc: 0.9600\n",
      "Epoch 190/200\n",
      "75/75 [==============================] - 0s 84us/step - loss: 0.4605 - acc: 0.9333 - val_loss: 0.4138 - val_acc: 0.9600\n",
      "Epoch 191/200\n",
      "75/75 [==============================] - 0s 86us/step - loss: 0.4589 - acc: 0.9467 - val_loss: 0.4131 - val_acc: 0.9600\n",
      "Epoch 192/200\n",
      "75/75 [==============================] - 0s 70us/step - loss: 0.4575 - acc: 0.9467 - val_loss: 0.4119 - val_acc: 0.9600\n",
      "Epoch 193/200\n",
      "75/75 [==============================] - 0s 73us/step - loss: 0.4559 - acc: 0.9467 - val_loss: 0.4120 - val_acc: 0.9600\n",
      "Epoch 194/200\n",
      "75/75 [==============================] - 0s 72us/step - loss: 0.4542 - acc: 0.9333 - val_loss: 0.4131 - val_acc: 0.9600\n",
      "Epoch 195/200\n",
      "75/75 [==============================] - 0s 73us/step - loss: 0.4538 - acc: 0.9333 - val_loss: 0.4162 - val_acc: 0.9467\n",
      "Epoch 196/200\n",
      "75/75 [==============================] - 0s 79us/step - loss: 0.4521 - acc: 0.9200 - val_loss: 0.4171 - val_acc: 0.9333\n",
      "Epoch 197/200\n",
      "75/75 [==============================] - 0s 67us/step - loss: 0.4505 - acc: 0.9067 - val_loss: 0.4157 - val_acc: 0.9333\n",
      "Epoch 198/200\n",
      "75/75 [==============================] - 0s 81us/step - loss: 0.4492 - acc: 0.9200 - val_loss: 0.4133 - val_acc: 0.9467\n",
      "Epoch 199/200\n",
      "75/75 [==============================] - 0s 65us/step - loss: 0.4480 - acc: 0.9200 - val_loss: 0.4101 - val_acc: 0.9600\n",
      "Epoch 200/200\n",
      "75/75 [==============================] - 0s 65us/step - loss: 0.4466 - acc: 0.9333 - val_loss: 0.4077 - val_acc: 0.9600\n"
     ]
    }
   ],
   "source": [
    "history = model.fit(train_X, train_y, epochs=200, validation_data=(test_X, test_y))"
   ]
  },
  {
   "cell_type": "code",
   "execution_count": 15,
   "metadata": {},
   "outputs": [
    {
     "data": {
      "text/plain": [
       "[<matplotlib.lines.Line2D at 0x7f6f9026f860>]"
      ]
     },
     "execution_count": 15,
     "metadata": {},
     "output_type": "execute_result"
    },
    {
     "data": {
      "image/png": "[encoded data removed]",
      "text/plain": [
       "<Figure size 432x288 with 1 Axes>"
      ]
     },
     "metadata": {
      "needs_background": "light"
     },
     "output_type": "display_data"
    }
   ],
   "source": [
    "plt.plot(history.history['acc'])\n",
    "plt.plot(history.history['val_acc'])"
   ]
  },
  {
   "cell_type": "code",
   "execution_count": 16,
   "metadata": {},
   "outputs": [
    {
     "data": {
      "text/plain": [
       "[<matplotlib.lines.Line2D at 0x7f6f9026ada0>]"
      ]
     },
     "execution_count": 16,
     "metadata": {},
     "output_type": "execute_result"
    },
    {
     "data": {
      "image/png": "[encoded data removed]",
      "text/plain": [
       "<Figure size 432x288 with 1 Axes>"
      ]
     },
     "metadata": {
      "needs_background": "light"
     },
     "output_type": "display_data"
    }
   ],
   "source": [
    "plt.plot(history.history['acc'])\n",
    "plt.plot(history.history['val_acc'])\n",
    "plt.plot(history.history['loss'])"
   ]
  },
  {
   "cell_type": "code",
   "execution_count": 17,
   "metadata": {},
   "outputs": [
    {
     "name": "stdout",
     "output_type": "stream",
     "text": [
      "75/75 [==============================] - 0s 35us/step\n"
     ]
    }
   ],
   "source": [
    "score = model.evaluate(test_X, test_y)"
   ]
  },
  {
   "cell_type": "code",
   "execution_count": 18,
   "metadata": {},
   "outputs": [
    {
     "name": "stdout",
     "output_type": "stream",
     "text": [
      "[0.40766570846239725, 0.96]\n"
     ]
    }
   ],
   "source": [
    "print(score)"
   ]
  }
 ],
 "metadata": {
  "kernelspec": {
   "display_name": "Python 3",
   "language": "python",
   "name": "python3"
  },
  "language_info": {
   "codemirror_mode": {
    "name": "ipython",
    "version": 3
   },
   "file_extension": ".py",
   "mimetype": "text/x-python",
   "name": "python",
   "nbconvert_exporter": "python",
   "pygments_lexer": "ipython3",
   "version": "3.6.7"
  }
 },
 "nbformat": 4,
 "nbformat_minor": 2
}
